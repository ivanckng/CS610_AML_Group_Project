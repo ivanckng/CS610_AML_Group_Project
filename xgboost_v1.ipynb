{
 "cells": [
  {
   "cell_type": "markdown",
   "id": "c1ea0fbb",
   "metadata": {
    "id": "c1ea0fbb"
   },
   "source": [
    "### Install and import packages"
   ]
  },
  {
   "cell_type": "code",
   "execution_count": null,
   "id": "18d078ba",
   "metadata": {
    "colab": {
     "background_save": true
    },
    "id": "18d078ba"
   },
   "outputs": [],
   "source": [
    "import cudf\n",
    "import numpy as np\n",
    "import pandas as pd\n",
    "from PIL import Image\n",
    "import cv2\n",
    "import os\n",
    "import tqdm\n",
    "from skimage.feature import hog\n",
    "from cuml.model_selection import train_test_split\n",
    "from cuml.metrics import accuracy_score"
   ]
  },
  {
   "cell_type": "code",
   "execution_count": null,
   "id": "0d59a5ee",
   "metadata": {
    "colab": {
     "background_save": true,
     "base_uri": "https://localhost:8080/"
    },
    "executionInfo": {
     "elapsed": 43,
     "status": "ok",
     "timestamp": 1749903367296,
     "user": {
      "displayName": "YS Goh",
      "userId": "02928050611845413598"
     },
     "user_tz": -480
    },
    "id": "0d59a5ee",
    "outputId": "1508a12f-31ca-41e3-a277-af279591daca"
   },
   "outputs": [
    {
     "name": "stdout",
     "output_type": "stream",
     "text": [
      "25.02.01\n"
     ]
    }
   ],
   "source": [
    "import cuml\n",
    "print(cuml.__version__)"
   ]
  },
  {
   "cell_type": "code",
   "execution_count": null,
   "id": "yNxShV_JyoHg",
   "metadata": {
    "colab": {
     "background_save": true,
     "base_uri": "https://localhost:8080/"
    },
    "executionInfo": {
     "elapsed": 25018,
     "status": "ok",
     "timestamp": 1749903392318,
     "user": {
      "displayName": "YS Goh",
      "userId": "02928050611845413598"
     },
     "user_tz": -480
    },
    "id": "yNxShV_JyoHg",
    "outputId": "1848469f-b9fa-49ea-b6a5-5d80868faadc"
   },
   "outputs": [
    {
     "name": "stdout",
     "output_type": "stream",
     "text": [
      "Drive already mounted at /content/drive; to attempt to forcibly remount, call drive.mount(\"/content/drive\", force_remount=True).\n"
     ]
    }
   ],
   "source": [
    "# from google.colab import drive\n",
    "# drive.mount('/content/drive')\n",
    "# os.chdir('/content/drive/MyDrive/cs610')"
   ]
  },
  {
   "cell_type": "markdown",
   "id": "70801808",
   "metadata": {
    "id": "70801808"
   },
   "source": [
    "### Image Processing"
   ]
  },
  {
   "cell_type": "markdown",
   "id": "b85c2e06",
   "metadata": {
    "id": "b85c2e06"
   },
   "source": [
    "#### HOG"
   ]
  },
  {
   "cell_type": "code",
   "execution_count": null,
   "id": "6ce93182",
   "metadata": {
    "colab": {
     "background_save": true
    },
    "id": "6ce93182"
   },
   "outputs": [],
   "source": [
    "from skimage.feature import hog\n",
    "\n",
    "def extract_hog_features_recursive(input_dir, pixels_per_cell=(16, 16), cells_per_block=(2, 2)):\n",
    "    features = []\n",
    "    filenames = []\n",
    "    supported_formats = ('.png', '.jpg', '.jpeg', '.bmp', '.tiff', '.webp')\n",
    "    for root, dirs, files in os.walk(input_dir):\n",
    "        for filename in files:\n",
    "            if filename.lower().endswith(supported_formats):\n",
    "                img_path = os.path.join(root, filename)\n",
    "                img = cv2.imread(img_path, cv2.IMREAD_GRAYSCALE)\n",
    "                if img is None:\n",
    "                    continue\n",
    "                # Extract HOG features\n",
    "                hog_feature = hog(img, pixels_per_cell=pixels_per_cell, cells_per_block=cells_per_block, feature_vector=True)\n",
    "                features.append(hog_feature)\n",
    "                rel_path = os.path.relpath(img_path, input_dir)\n",
    "                filenames.append(rel_path)\n",
    "    hogged = np.array(features)\n",
    "    return hogged, filenames\n",
    "\n",
    "# Example usage:\n",
    "input_dir = 'grayscale_images'\n",
    "hogged, filenames = extract_hog_features_recursive(input_dir)\n",
    "print(hogged.shape)  # (num_images, hog_feature_dim)"
   ]
  },
  {
   "cell_type": "markdown",
   "id": "f8c933f6",
   "metadata": {
    "id": "f8c933f6"
   },
   "source": [
    "#### Labelling"
   ]
  },
  {
   "cell_type": "code",
   "execution_count": null,
   "id": "b3d086fe",
   "metadata": {
    "id": "b3d086fe"
   },
   "outputs": [],
   "source": [
    "y = [f.split(os.sep)[0] for f in filenames]"
   ]
  },
  {
   "cell_type": "markdown",
   "id": "fcebee89",
   "metadata": {
    "id": "fcebee89"
   },
   "source": [
    "#### Data Splitting"
   ]
  },
  {
   "cell_type": "code",
   "execution_count": null,
   "id": "c3005cc0",
   "metadata": {
    "id": "c3005cc0"
   },
   "outputs": [],
   "source": [
    "x = hogged.astype(np.float32)\n",
    "y = np.array(y)\n",
    "y_encoded, uniques = pd.factorize(y)"
   ]
  },
  {
   "cell_type": "code",
   "execution_count": null,
   "id": "2135ac92",
   "metadata": {
    "id": "2135ac92"
   },
   "outputs": [],
   "source": [
    "x_train, x_valid, y_encoded_train, y_encoded_valid = train_test_split(x, y_encoded, test_size=0.2, random_state=42, stratify=y_encoded)\n",
    "x_train, x_test, y_encoded_train, y_encoded_test = train_test_split(x_train, y_encoded_train, test_size=0.2, random_state=42, stratify=y_encoded)"
   ]
  },
  {
   "cell_type": "code",
   "execution_count": null,
   "id": "19b59974",
   "metadata": {
    "id": "19b59974"
   },
   "outputs": [],
   "source": [
    "x_train_gpu = cudf.DataFrame(x_train, dtype=np.float32)\n",
    "y_train_gpu = cudf.Series(y_encoded_train, dtype=np.int32)\n",
    "x_valid_gpu = cudf.DataFrame(x_valid, dtype=np.float32)\n",
    "y_valid_gpu = cudf.Series(y_encoded_valid, dtype=np.int32)\n",
    "x_test_gpu = cudf.DataFrame(x_test, dtype=np.float32)\n",
    "y_test_gpu = cudf.Series(y_encoded_test, dtype=np.int32)\n",
    "\n",
    "x_train_cpu = pd.DataFrame(x_train, dtype=np.float32)\n",
    "y_train_cpu = pd.Series(y_encoded_train, dtype=np.int32)\n",
    "x_valid_cpu = pd.DataFrame(x_valid, dtype=np.float32)\n",
    "y_valid_cpu = pd.Series(y_encoded_valid, dtype=np.int32)\n",
    "x_test_cpu = pd.DataFrame(x_test, dtype=np.float32)\n",
    "y_test_cpu = pd.Series(y_encoded_test, dtype=np.int32)"
   ]
  },
  {
   "cell_type": "code",
   "execution_count": null,
   "id": "1510997b",
   "metadata": {
    "colab": {
     "base_uri": "https://localhost:8080/"
    },
    "executionInfo": {
     "elapsed": 26,
     "status": "ok",
     "timestamp": 1749884583083,
     "user": {
      "displayName": "YS Goh",
      "userId": "02928050611845413598"
     },
     "user_tz": -480
    },
    "id": "1510997b",
    "outputId": "0133138c-1d99-449e-e001-1d5ad7240757"
   },
   "outputs": [
    {
     "name": "stdout",
     "output_type": "stream",
     "text": [
      "Number of Samples: 2974\n",
      "Number of Labels: 40\n",
      "Label Distribution:\n",
      "37    101\n",
      "35    101\n",
      "13    101\n",
      "17    100\n",
      "24     97\n",
      "8      97\n",
      "14     96\n",
      "22     96\n",
      "28     96\n",
      "30     96\n",
      "11     95\n",
      "2      95\n",
      "18     94\n",
      "29     94\n",
      "4      94\n",
      "21     92\n",
      "9      89\n",
      "32     71\n",
      "26     69\n",
      "12     66\n",
      "33     65\n",
      "31     64\n",
      "20     64\n",
      "5      63\n",
      "7      62\n",
      "34     61\n",
      "1      61\n",
      "16     60\n",
      "36     60\n",
      "0      58\n",
      "27     57\n",
      "15     56\n",
      "19     55\n",
      "10     54\n",
      "23     51\n",
      "38     51\n",
      "39     51\n",
      "25     50\n",
      "3      48\n",
      "6      43\n",
      "Name: count, dtype: int64\n"
     ]
    }
   ],
   "source": [
    "print(\"Number of Samples:\", len(y_train_cpu))\n",
    "print(\"Number of Labels:\", len(np.unique(y_train_cpu)))\n",
    "\n",
    "counts = y_train_cpu.value_counts()\n",
    "print(\"Label Distribution:\")\n",
    "print(counts)"
   ]
  },
  {
   "cell_type": "markdown",
   "id": "4e447fd7",
   "metadata": {
    "id": "4e447fd7"
   },
   "source": [
    "#### XGBoost"
   ]
  },
  {
   "cell_type": "code",
   "execution_count": null,
   "id": "2f8321c2",
   "metadata": {
    "colab": {
     "base_uri": "https://localhost:8080/"
    },
    "executionInfo": {
     "elapsed": 11602450,
     "status": "ok",
     "timestamp": 1749900841191,
     "user": {
      "displayName": "YS Goh",
      "userId": "02928050611845413598"
     },
     "user_tz": -480
    },
    "id": "2f8321c2",
    "outputId": "491bafa3-6e60-44b1-c0d4-92e1b85d2632"
   },
   "outputs": [
    {
     "name": "stdout",
     "output_type": "stream",
     "text": [
      "The cuml.accel extension is already loaded. To reload it, use:\n",
      "  %reload_ext cuml.accel\n",
      "Fitting 5 folds for each of 50 candidates, totalling 250 fits\n",
      "[CV] END colsample_bytree=0.8123620356542087, learning_rate=0.19063571821788408, max_depth=10, n_estimators=238, subsample=0.879055047383946; total time=  31.7s\n",
      "[CV] END colsample_bytree=0.8123620356542087, learning_rate=0.19063571821788408, max_depth=10, n_estimators=238, subsample=0.879055047383946; total time=  34.9s\n",
      "[CV] END colsample_bytree=0.8123620356542087, learning_rate=0.19063571821788408, max_depth=10, n_estimators=238, subsample=0.879055047383946; total time=  30.3s\n",
      "[CV] END colsample_bytree=0.8123620356542087, learning_rate=0.19063571821788408, max_depth=10, n_estimators=238, subsample=0.879055047383946; total time=  35.6s\n",
      "[CV] END colsample_bytree=0.8123620356542087, learning_rate=0.19063571821788408, max_depth=10, n_estimators=238, subsample=0.879055047383946; total time=  34.4s\n",
      "[CV] END colsample_bytree=0.8337498258560773, learning_rate=0.028995234005420548, max_depth=10, n_estimators=422, subsample=0.8803345035229626; total time= 1.8min\n",
      "[CV] END colsample_bytree=0.8337498258560773, learning_rate=0.028995234005420548, max_depth=10, n_estimators=422, subsample=0.8803345035229626; total time= 1.8min\n",
      "[CV] END colsample_bytree=0.8337498258560773, learning_rate=0.028995234005420548, max_depth=10, n_estimators=422, subsample=0.8803345035229626; total time= 2.0min\n",
      "[CV] END colsample_bytree=0.8337498258560773, learning_rate=0.028995234005420548, max_depth=10, n_estimators=422, subsample=0.8803345035229626; total time= 1.8min\n",
      "[CV] END colsample_bytree=0.8337498258560773, learning_rate=0.028995234005420548, max_depth=10, n_estimators=422, subsample=0.8803345035229626; total time= 2.0min\n",
      "[CV] END colsample_bytree=0.9124217733388136, learning_rate=0.013911053916202464, max_depth=4, n_estimators=393, subsample=0.9497327922401264; total time= 1.2min\n",
      "[CV] END colsample_bytree=0.9124217733388136, learning_rate=0.013911053916202464, max_depth=4, n_estimators=393, subsample=0.9497327922401264; total time= 1.2min\n",
      "[CV] END colsample_bytree=0.9124217733388136, learning_rate=0.013911053916202464, max_depth=4, n_estimators=393, subsample=0.9497327922401264; total time= 1.2min\n",
      "[CV] END colsample_bytree=0.9124217733388136, learning_rate=0.013911053916202464, max_depth=4, n_estimators=393, subsample=0.9497327922401264; total time= 1.2min\n",
      "[CV] END colsample_bytree=0.9124217733388136, learning_rate=0.013911053916202464, max_depth=4, n_estimators=393, subsample=0.9497327922401264; total time= 1.2min\n",
      "[CV] END colsample_bytree=0.7637017332034828, learning_rate=0.04454674376934912, max_depth=7, n_estimators=210, subsample=0.7912726728878613; total time=  54.4s\n",
      "[CV] END colsample_bytree=0.7637017332034828, learning_rate=0.04454674376934912, max_depth=7, n_estimators=210, subsample=0.7912726728878613; total time=  54.7s\n",
      "[CV] END colsample_bytree=0.7637017332034828, learning_rate=0.04454674376934912, max_depth=7, n_estimators=210, subsample=0.7912726728878613; total time=  54.5s\n",
      "[CV] END colsample_bytree=0.7637017332034828, learning_rate=0.04454674376934912, max_depth=7, n_estimators=210, subsample=0.7912726728878613; total time=  53.9s\n",
      "[CV] END colsample_bytree=0.7637017332034828, learning_rate=0.04454674376934912, max_depth=7, n_estimators=210, subsample=0.7912726728878613; total time=  55.0s\n",
      "[CV] END colsample_bytree=0.8574269294896713, learning_rate=0.092069553542002, max_depth=3, n_estimators=108, subsample=0.8199582915145766; total time=  17.5s\n",
      "[CV] END colsample_bytree=0.8574269294896713, learning_rate=0.092069553542002, max_depth=3, n_estimators=108, subsample=0.8199582915145766; total time=  17.0s\n",
      "[CV] END colsample_bytree=0.8574269294896713, learning_rate=0.092069553542002, max_depth=3, n_estimators=108, subsample=0.8199582915145766; total time=  17.6s\n",
      "[CV] END colsample_bytree=0.8574269294896713, learning_rate=0.092069553542002, max_depth=3, n_estimators=108, subsample=0.8199582915145766; total time=  17.6s\n",
      "[CV] END colsample_bytree=0.8574269294896713, learning_rate=0.092069553542002, max_depth=3, n_estimators=108, subsample=0.8199582915145766; total time=  17.1s\n",
      "[CV] END colsample_bytree=0.7139996989640846, learning_rate=0.19501354857987727, max_depth=5, n_estimators=413, subsample=0.8542703315240834; total time=  26.0s\n",
      "[CV] END colsample_bytree=0.7139996989640846, learning_rate=0.19501354857987727, max_depth=5, n_estimators=413, subsample=0.8542703315240834; total time=  26.6s\n",
      "[CV] END colsample_bytree=0.7139996989640846, learning_rate=0.19501354857987727, max_depth=5, n_estimators=413, subsample=0.8542703315240834; total time=  24.3s\n",
      "[CV] END colsample_bytree=0.7139996989640846, learning_rate=0.19501354857987727, max_depth=5, n_estimators=413, subsample=0.8542703315240834; total time=  24.8s\n",
      "[CV] END colsample_bytree=0.7139996989640846, learning_rate=0.19501354857987727, max_depth=5, n_estimators=413, subsample=0.8542703315240834; total time=  24.8s\n",
      "[CV] END colsample_bytree=0.8777243706586126, learning_rate=0.01882557841679957, max_depth=5, n_estimators=184, subsample=0.7511572371061874; total time=  46.1s\n",
      "[CV] END colsample_bytree=0.8777243706586126, learning_rate=0.01882557841679957, max_depth=5, n_estimators=184, subsample=0.7511572371061874; total time=  47.2s\n",
      "[CV] END colsample_bytree=0.8777243706586126, learning_rate=0.01882557841679957, max_depth=5, n_estimators=184, subsample=0.7511572371061874; total time=  46.9s\n",
      "[CV] END colsample_bytree=0.8777243706586126, learning_rate=0.01882557841679957, max_depth=5, n_estimators=184, subsample=0.7511572371061874; total time=  46.2s\n",
      "[CV] END colsample_bytree=0.8777243706586126, learning_rate=0.01882557841679957, max_depth=5, n_estimators=184, subsample=0.7511572371061874; total time=  47.8s\n",
      "[CV] END colsample_bytree=0.7195154778955838, learning_rate=0.19028825207813332, max_depth=4, n_estimators=314, subsample=0.7047898756660642; total time=  22.8s\n",
      "[CV] END colsample_bytree=0.7195154778955838, learning_rate=0.19028825207813332, max_depth=4, n_estimators=314, subsample=0.7047898756660642; total time=  24.6s\n",
      "[CV] END colsample_bytree=0.7195154778955838, learning_rate=0.19028825207813332, max_depth=4, n_estimators=314, subsample=0.7047898756660642; total time=  18.9s\n",
      "[CV] END colsample_bytree=0.7195154778955838, learning_rate=0.19028825207813332, max_depth=4, n_estimators=314, subsample=0.7047898756660642; total time=  24.5s\n",
      "[CV] END colsample_bytree=0.7195154778955838, learning_rate=0.19028825207813332, max_depth=4, n_estimators=314, subsample=0.7047898756660642; total time=  20.5s\n",
      "[CV] END colsample_bytree=0.7692681476866446, learning_rate=0.05579483854494223, max_depth=9, n_estimators=477, subsample=0.848553073033381; total time= 1.3min\n",
      "[CV] END colsample_bytree=0.7692681476866446, learning_rate=0.05579483854494223, max_depth=9, n_estimators=477, subsample=0.848553073033381; total time= 1.4min\n",
      "[CV] END colsample_bytree=0.7692681476866446, learning_rate=0.05579483854494223, max_depth=9, n_estimators=477, subsample=0.848553073033381; total time= 1.1min\n",
      "[CV] END colsample_bytree=0.7692681476866446, learning_rate=0.05579483854494223, max_depth=9, n_estimators=477, subsample=0.848553073033381; total time= 1.3min\n",
      "[CV] END colsample_bytree=0.7692681476866446, learning_rate=0.05579483854494223, max_depth=9, n_estimators=477, subsample=0.848553073033381; total time= 1.3min\n",
      "[CV] END colsample_bytree=0.7103165563345655, learning_rate=0.1827708763949686, max_depth=6, n_estimators=99, subsample=0.8987566853061946; total time=  24.0s\n",
      "[CV] END colsample_bytree=0.7103165563345655, learning_rate=0.1827708763949686, max_depth=6, n_estimators=99, subsample=0.8987566853061946; total time=  23.3s\n",
      "[CV] END colsample_bytree=0.7103165563345655, learning_rate=0.1827708763949686, max_depth=6, n_estimators=99, subsample=0.8987566853061946; total time=  24.0s\n",
      "[CV] END colsample_bytree=0.7103165563345655, learning_rate=0.1827708763949686, max_depth=6, n_estimators=99, subsample=0.8987566853061946; total time=  24.0s\n",
      "[CV] END colsample_bytree=0.7103165563345655, learning_rate=0.1827708763949686, max_depth=6, n_estimators=99, subsample=0.8987566853061946; total time=  24.0s\n",
      "[CV] END colsample_bytree=0.7935133228268232, learning_rate=0.10881292402378405, max_depth=6, n_estimators=359, subsample=0.7093939877366675; total time=  43.1s\n",
      "[CV] END colsample_bytree=0.7935133228268232, learning_rate=0.10881292402378405, max_depth=6, n_estimators=359, subsample=0.7093939877366675; total time=  42.7s\n",
      "[CV] END colsample_bytree=0.7935133228268232, learning_rate=0.10881292402378405, max_depth=6, n_estimators=359, subsample=0.7093939877366675; total time=  38.1s\n",
      "[CV] END colsample_bytree=0.7935133228268232, learning_rate=0.10881292402378405, max_depth=6, n_estimators=359, subsample=0.7093939877366675; total time=  44.6s\n",
      "[CV] END colsample_bytree=0.7935133228268232, learning_rate=0.10881292402378405, max_depth=6, n_estimators=359, subsample=0.7093939877366675; total time=  37.3s\n",
      "[CV] END colsample_bytree=0.9526854323784995, learning_rate=0.09545328534025548, max_depth=6, n_estimators=319, subsample=0.9181815987569262; total time=  40.2s\n",
      "[CV] END colsample_bytree=0.9526854323784995, learning_rate=0.09545328534025548, max_depth=6, n_estimators=319, subsample=0.9181815987569262; total time=  47.3s\n",
      "[CV] END colsample_bytree=0.9526854323784995, learning_rate=0.09545328534025548, max_depth=6, n_estimators=319, subsample=0.9181815987569262; total time=  44.4s\n",
      "[CV] END colsample_bytree=0.9526854323784995, learning_rate=0.09545328534025548, max_depth=6, n_estimators=319, subsample=0.9181815987569262; total time=  52.2s\n",
      "[CV] END colsample_bytree=0.9526854323784995, learning_rate=0.09545328534025548, max_depth=6, n_estimators=319, subsample=0.9181815987569262; total time=  46.8s\n",
      "[CV] END colsample_bytree=0.7979622306417505, learning_rate=0.11838435513702589, max_depth=11, n_estimators=239, subsample=0.7975990992289792; total time=  44.5s\n",
      "[CV] END colsample_bytree=0.7979622306417505, learning_rate=0.11838435513702589, max_depth=11, n_estimators=239, subsample=0.7975990992289792; total time=  41.9s\n",
      "[CV] END colsample_bytree=0.7979622306417505, learning_rate=0.11838435513702589, max_depth=11, n_estimators=239, subsample=0.7975990992289792; total time=  42.0s\n",
      "[CV] END colsample_bytree=0.7979622306417505, learning_rate=0.11838435513702589, max_depth=11, n_estimators=239, subsample=0.7975990992289792; total time=  47.3s\n",
      "[CV] END colsample_bytree=0.7979622306417505, learning_rate=0.11838435513702589, max_depth=11, n_estimators=239, subsample=0.7975990992289792; total time=  42.8s\n",
      "[CV] END colsample_bytree=0.8166031869068445, learning_rate=0.061556316037040225, max_depth=7, n_estimators=329, subsample=0.8070259980080767; total time= 1.1min\n",
      "[CV] END colsample_bytree=0.8166031869068445, learning_rate=0.061556316037040225, max_depth=7, n_estimators=329, subsample=0.8070259980080767; total time= 1.2min\n",
      "[CV] END colsample_bytree=0.8166031869068445, learning_rate=0.061556316037040225, max_depth=7, n_estimators=329, subsample=0.8070259980080767; total time= 1.1min\n",
      "[CV] END colsample_bytree=0.8166031869068445, learning_rate=0.061556316037040225, max_depth=7, n_estimators=329, subsample=0.8070259980080767; total time= 1.1min\n",
      "[CV] END colsample_bytree=0.8166031869068445, learning_rate=0.061556316037040225, max_depth=7, n_estimators=329, subsample=0.8070259980080767; total time=  59.5s\n",
      "[CV] END colsample_bytree=0.7842803529062142, learning_rate=0.1131122558000672, max_depth=11, n_estimators=206, subsample=0.9406590942262119; total time=  48.0s\n",
      "[CV] END colsample_bytree=0.7842803529062142, learning_rate=0.1131122558000672, max_depth=11, n_estimators=206, subsample=0.9406590942262119; total time=  51.6s\n",
      "[CV] END colsample_bytree=0.7842803529062142, learning_rate=0.1131122558000672, max_depth=11, n_estimators=206, subsample=0.9406590942262119; total time=  46.5s\n",
      "[CV] END colsample_bytree=0.7842803529062142, learning_rate=0.1131122558000672, max_depth=11, n_estimators=206, subsample=0.9406590942262119; total time=  51.7s\n",
      "[CV] END colsample_bytree=0.7842803529062142, learning_rate=0.1131122558000672, max_depth=11, n_estimators=206, subsample=0.9406590942262119; total time=  51.6s\n",
      "[CV] END colsample_bytree=0.7223651931039312, learning_rate=0.1975085179540983, max_depth=10, n_estimators=178, subsample=0.7596147044602517; total time=  29.9s\n",
      "[CV] END colsample_bytree=0.7223651931039312, learning_rate=0.1975085179540983, max_depth=10, n_estimators=178, subsample=0.7596147044602517; total time=  31.4s\n",
      "[CV] END colsample_bytree=0.7223651931039312, learning_rate=0.1975085179540983, max_depth=10, n_estimators=178, subsample=0.7596147044602517; total time=  25.1s\n",
      "[CV] END colsample_bytree=0.7223651931039312, learning_rate=0.1975085179540983, max_depth=10, n_estimators=178, subsample=0.7596147044602517; total time=  27.2s\n",
      "[CV] END colsample_bytree=0.7223651931039312, learning_rate=0.1975085179540983, max_depth=10, n_estimators=178, subsample=0.7596147044602517; total time=  31.5s\n",
      "[CV] END colsample_bytree=0.7016566351370807, learning_rate=0.1649376714064185, max_depth=3, n_estimators=441, subsample=0.9187021504122961; total time=  23.2s\n",
      "[CV] END colsample_bytree=0.7016566351370807, learning_rate=0.1649376714064185, max_depth=3, n_estimators=441, subsample=0.9187021504122961; total time=  19.3s\n",
      "[CV] END colsample_bytree=0.7016566351370807, learning_rate=0.1649376714064185, max_depth=3, n_estimators=441, subsample=0.9187021504122961; total time=  20.5s\n",
      "[CV] END colsample_bytree=0.7016566351370807, learning_rate=0.1649376714064185, max_depth=3, n_estimators=441, subsample=0.9187021504122961; total time=  24.6s\n",
      "[CV] END colsample_bytree=0.7016566351370807, learning_rate=0.1649376714064185, max_depth=3, n_estimators=441, subsample=0.9187021504122961; total time=  18.6s\n",
      "[CV] END colsample_bytree=0.9313811040057837, learning_rate=0.02406848382947717, max_depth=9, n_estimators=90, subsample=0.9744879026631341; total time=  36.9s\n",
      "[CV] END colsample_bytree=0.9313811040057837, learning_rate=0.02406848382947717, max_depth=9, n_estimators=90, subsample=0.9744879026631341; total time=  37.9s\n",
      "[CV] END colsample_bytree=0.9313811040057837, learning_rate=0.02406848382947717, max_depth=9, n_estimators=90, subsample=0.9744879026631341; total time=  37.7s\n",
      "[CV] END colsample_bytree=0.9313811040057837, learning_rate=0.02406848382947717, max_depth=9, n_estimators=90, subsample=0.9744879026631341; total time=  37.2s\n",
      "[CV] END colsample_bytree=0.9313811040057837, learning_rate=0.02406848382947717, max_depth=9, n_estimators=90, subsample=0.9744879026631341; total time=  38.1s\n",
      "[CV] END colsample_bytree=0.9550115733369398, learning_rate=0.09539562808625864, max_depth=3, n_estimators=97, subsample=0.8112454756594799; total time=  16.8s\n",
      "[CV] END colsample_bytree=0.9550115733369398, learning_rate=0.09539562808625864, max_depth=3, n_estimators=97, subsample=0.8112454756594799; total time=  16.3s\n",
      "[CV] END colsample_bytree=0.9550115733369398, learning_rate=0.09539562808625864, max_depth=3, n_estimators=97, subsample=0.8112454756594799; total time=  16.9s\n",
      "[CV] END colsample_bytree=0.9550115733369398, learning_rate=0.09539562808625864, max_depth=3, n_estimators=97, subsample=0.8112454756594799; total time=  16.8s\n",
      "[CV] END colsample_bytree=0.9550115733369398, learning_rate=0.09539562808625864, max_depth=3, n_estimators=97, subsample=0.8112454756594799; total time=  16.2s\n",
      "[CV] END colsample_bytree=0.9006523757990821, learning_rate=0.13652524775732439, max_depth=10, n_estimators=263, subsample=0.9661638227728979; total time=  50.2s\n",
      "[CV] END colsample_bytree=0.9006523757990821, learning_rate=0.13652524775732439, max_depth=10, n_estimators=263, subsample=0.9661638227728979; total time=  43.8s\n",
      "[CV] END colsample_bytree=0.9006523757990821, learning_rate=0.13652524775732439, max_depth=10, n_estimators=263, subsample=0.9661638227728979; total time=  41.8s\n",
      "[CV] END colsample_bytree=0.9006523757990821, learning_rate=0.13652524775732439, max_depth=10, n_estimators=263, subsample=0.9661638227728979; total time=  51.5s\n",
      "[CV] END colsample_bytree=0.9006523757990821, learning_rate=0.13652524775732439, max_depth=10, n_estimators=263, subsample=0.9661638227728979; total time=  39.6s\n",
      "[CV] END colsample_bytree=0.8416644775485848, learning_rate=0.03272290672827732, max_depth=5, n_estimators=306, subsample=0.916518856349462; total time= 1.2min\n",
      "[CV] END colsample_bytree=0.8416644775485848, learning_rate=0.03272290672827732, max_depth=5, n_estimators=306, subsample=0.916518856349462; total time= 1.2min\n",
      "[CV] END colsample_bytree=0.8416644775485848, learning_rate=0.03272290672827732, max_depth=5, n_estimators=306, subsample=0.916518856349462; total time= 1.2min\n",
      "[CV] END colsample_bytree=0.8416644775485848, learning_rate=0.03272290672827732, max_depth=5, n_estimators=306, subsample=0.916518856349462; total time= 1.2min\n",
      "[CV] END colsample_bytree=0.8416644775485848, learning_rate=0.03272290672827732, max_depth=5, n_estimators=306, subsample=0.916518856349462; total time= 1.2min\n",
      "[CV] END colsample_bytree=0.7707954759246867, learning_rate=0.058652981324651556, max_depth=11, n_estimators=256, subsample=0.8282623055075649; total time= 1.0min\n",
      "[CV] END colsample_bytree=0.7707954759246867, learning_rate=0.058652981324651556, max_depth=11, n_estimators=256, subsample=0.8282623055075649; total time= 1.0min\n",
      "[CV] END colsample_bytree=0.7707954759246867, learning_rate=0.058652981324651556, max_depth=11, n_estimators=256, subsample=0.8282623055075649; total time= 1.0min\n",
      "[CV] END colsample_bytree=0.7707954759246867, learning_rate=0.058652981324651556, max_depth=11, n_estimators=256, subsample=0.8282623055075649; total time= 1.2min\n",
      "[CV] END colsample_bytree=0.7707954759246867, learning_rate=0.058652981324651556, max_depth=11, n_estimators=256, subsample=0.8282623055075649; total time= 1.0min\n",
      "[CV] END colsample_bytree=0.7076257380232285, learning_rate=0.030499371128727845, max_depth=9, n_estimators=290, subsample=0.794306794322898; total time= 1.3min\n",
      "[CV] END colsample_bytree=0.7076257380232285, learning_rate=0.030499371128727845, max_depth=9, n_estimators=290, subsample=0.794306794322898; total time= 1.3min\n",
      "[CV] END colsample_bytree=0.7076257380232285, learning_rate=0.030499371128727845, max_depth=9, n_estimators=290, subsample=0.794306794322898; total time= 1.3min\n",
      "[CV] END colsample_bytree=0.7076257380232285, learning_rate=0.030499371128727845, max_depth=9, n_estimators=290, subsample=0.794306794322898; total time= 1.3min\n",
      "[CV] END colsample_bytree=0.7076257380232285, learning_rate=0.030499371128727845, max_depth=9, n_estimators=290, subsample=0.794306794322898; total time= 1.3min\n",
      "[CV] END colsample_bytree=0.8525712073494107, learning_rate=0.18243763004595767, max_depth=9, n_estimators=280, subsample=0.8231148769106889; total time=  41.8s\n",
      "[CV] END colsample_bytree=0.8525712073494107, learning_rate=0.18243763004595767, max_depth=9, n_estimators=280, subsample=0.8231148769106889; total time=  32.5s\n",
      "[CV] END colsample_bytree=0.8525712073494107, learning_rate=0.18243763004595767, max_depth=9, n_estimators=280, subsample=0.8231148769106889; total time=  30.7s\n",
      "[CV] END colsample_bytree=0.8525712073494107, learning_rate=0.18243763004595767, max_depth=9, n_estimators=280, subsample=0.8231148769106889; total time=  28.0s\n",
      "[CV] END colsample_bytree=0.8525712073494107, learning_rate=0.18243763004595767, max_depth=9, n_estimators=280, subsample=0.8231148769106889; total time=  28.5s\n",
      "[CV] END colsample_bytree=0.9266653415629146, learning_rate=0.05347165144340827, max_depth=9, n_estimators=236, subsample=0.9084354799119113; total time= 1.0min\n",
      "[CV] END colsample_bytree=0.9266653415629146, learning_rate=0.05347165144340827, max_depth=9, n_estimators=236, subsample=0.9084354799119113; total time= 1.0min\n",
      "[CV] END colsample_bytree=0.9266653415629146, learning_rate=0.05347165144340827, max_depth=9, n_estimators=236, subsample=0.9084354799119113; total time= 1.2min\n",
      "[CV] END colsample_bytree=0.9266653415629146, learning_rate=0.05347165144340827, max_depth=9, n_estimators=236, subsample=0.9084354799119113; total time= 1.2min\n",
      "[CV] END colsample_bytree=0.9266653415629146, learning_rate=0.05347165144340827, max_depth=9, n_estimators=236, subsample=0.9084354799119113; total time= 1.0min\n",
      "[CV] END colsample_bytree=0.9641403517045772, learning_rate=0.12862726914542072, max_depth=11, n_estimators=183, subsample=0.836960371144873; total time=  40.8s\n",
      "[CV] END colsample_bytree=0.9641403517045772, learning_rate=0.12862726914542072, max_depth=11, n_estimators=183, subsample=0.836960371144873; total time=  40.7s\n",
      "[CV] END colsample_bytree=0.9641403517045772, learning_rate=0.12862726914542072, max_depth=11, n_estimators=183, subsample=0.836960371144873; total time=  39.6s\n",
      "[CV] END colsample_bytree=0.9641403517045772, learning_rate=0.12862726914542072, max_depth=11, n_estimators=183, subsample=0.836960371144873; total time=  41.1s\n",
      "[CV] END colsample_bytree=0.9641403517045772, learning_rate=0.12862726914542072, max_depth=11, n_estimators=183, subsample=0.836960371144873; total time=  38.6s\n",
      "[CV] END colsample_bytree=0.76553213116505, learning_rate=0.08913689009536958, max_depth=9, n_estimators=397, subsample=0.8068893514230924; total time=  56.5s\n",
      "[CV] END colsample_bytree=0.76553213116505, learning_rate=0.08913689009536958, max_depth=9, n_estimators=397, subsample=0.8068893514230924; total time=  57.0s\n",
      "[CV] END colsample_bytree=0.76553213116505, learning_rate=0.08913689009536958, max_depth=9, n_estimators=397, subsample=0.8068893514230924; total time=  50.3s\n",
      "[CV] END colsample_bytree=0.76553213116505, learning_rate=0.08913689009536958, max_depth=9, n_estimators=397, subsample=0.8068893514230924; total time=  55.9s\n",
      "[CV] END colsample_bytree=0.76553213116505, learning_rate=0.08913689009536958, max_depth=9, n_estimators=397, subsample=0.8068893514230924; total time=  52.1s\n",
      "[CV] END colsample_bytree=0.9720485324637261, learning_rate=0.06170512738308071, max_depth=11, n_estimators=165, subsample=0.8057706569002506; total time=  47.9s\n",
      "[CV] END colsample_bytree=0.9720485324637261, learning_rate=0.06170512738308071, max_depth=11, n_estimators=165, subsample=0.8057706569002506; total time=  48.4s\n",
      "[CV] END colsample_bytree=0.9720485324637261, learning_rate=0.06170512738308071, max_depth=11, n_estimators=165, subsample=0.8057706569002506; total time=  48.0s\n",
      "[CV] END colsample_bytree=0.9720485324637261, learning_rate=0.06170512738308071, max_depth=11, n_estimators=165, subsample=0.8057706569002506; total time=  47.5s\n",
      "[CV] END colsample_bytree=0.9720485324637261, learning_rate=0.06170512738308071, max_depth=11, n_estimators=165, subsample=0.8057706569002506; total time=  48.5s\n",
      "[CV] END colsample_bytree=0.7914343774474086, learning_rate=0.04128461209715893, max_depth=11, n_estimators=367, subsample=0.766632343141219; total time= 1.4min\n",
      "[CV] END colsample_bytree=0.7914343774474086, learning_rate=0.04128461209715893, max_depth=11, n_estimators=367, subsample=0.766632343141219; total time= 1.4min\n",
      "[CV] END colsample_bytree=0.7914343774474086, learning_rate=0.04128461209715893, max_depth=11, n_estimators=367, subsample=0.766632343141219; total time= 1.4min\n",
      "[CV] END colsample_bytree=0.7914343774474086, learning_rate=0.04128461209715893, max_depth=11, n_estimators=367, subsample=0.766632343141219; total time= 1.4min\n",
      "[CV] END colsample_bytree=0.7914343774474086, learning_rate=0.04128461209715893, max_depth=11, n_estimators=367, subsample=0.766632343141219; total time= 1.4min\n",
      "[CV] END colsample_bytree=0.7359596102001048, learning_rate=0.0741468825666893, max_depth=8, n_estimators=209, subsample=0.8556371865230098; total time=  48.7s\n",
      "[CV] END colsample_bytree=0.7359596102001048, learning_rate=0.0741468825666893, max_depth=8, n_estimators=209, subsample=0.8556371865230098; total time=  49.6s\n",
      "[CV] END colsample_bytree=0.7359596102001048, learning_rate=0.0741468825666893, max_depth=8, n_estimators=209, subsample=0.8556371865230098; total time=  49.3s\n",
      "[CV] END colsample_bytree=0.7359596102001048, learning_rate=0.0741468825666893, max_depth=8, n_estimators=209, subsample=0.8556371865230098; total time=  48.6s\n",
      "[CV] END colsample_bytree=0.7359596102001048, learning_rate=0.0741468825666893, max_depth=8, n_estimators=209, subsample=0.8556371865230098; total time=  49.4s\n",
      "[CV] END colsample_bytree=0.9109056876685533, learning_rate=0.07908962445206585, max_depth=3, n_estimators=491, subsample=0.9887341884826333; total time=  38.7s\n",
      "[CV] END colsample_bytree=0.9109056876685533, learning_rate=0.07908962445206585, max_depth=3, n_estimators=491, subsample=0.9887341884826333; total time=  43.3s\n",
      "[CV] END colsample_bytree=0.9109056876685533, learning_rate=0.07908962445206585, max_depth=3, n_estimators=491, subsample=0.9887341884826333; total time=  40.4s\n",
      "[CV] END colsample_bytree=0.9109056876685533, learning_rate=0.07908962445206585, max_depth=3, n_estimators=491, subsample=0.9887341884826333; total time=  42.5s\n",
      "[CV] END colsample_bytree=0.9109056876685533, learning_rate=0.07908962445206585, max_depth=3, n_estimators=491, subsample=0.9887341884826333; total time=  38.6s\n",
      "[CV] END colsample_bytree=0.7755346887476092, learning_rate=0.10447721611955323, max_depth=3, n_estimators=150, subsample=0.7854521483132403; total time=  22.6s\n",
      "[CV] END colsample_bytree=0.7755346887476092, learning_rate=0.10447721611955323, max_depth=3, n_estimators=150, subsample=0.7854521483132403; total time=  22.6s\n",
      "[CV] END colsample_bytree=0.7755346887476092, learning_rate=0.10447721611955323, max_depth=3, n_estimators=150, subsample=0.7854521483132403; total time=  23.0s\n",
      "[CV] END colsample_bytree=0.7755346887476092, learning_rate=0.10447721611955323, max_depth=3, n_estimators=150, subsample=0.7854521483132403; total time=  21.9s\n",
      "[CV] END colsample_bytree=0.7755346887476092, learning_rate=0.10447721611955323, max_depth=3, n_estimators=150, subsample=0.7854521483132403; total time=  22.7s\n",
      "[CV] END colsample_bytree=0.7110660842063597, learning_rate=0.1258172234561804, max_depth=4, n_estimators=269, subsample=0.7154436253749967; total time=  30.3s\n",
      "[CV] END colsample_bytree=0.7110660842063597, learning_rate=0.1258172234561804, max_depth=4, n_estimators=269, subsample=0.7154436253749967; total time=  32.4s\n",
      "[CV] END colsample_bytree=0.7110660842063597, learning_rate=0.1258172234561804, max_depth=4, n_estimators=269, subsample=0.7154436253749967; total time=  28.4s\n",
      "[CV] END colsample_bytree=0.7110660842063597, learning_rate=0.1258172234561804, max_depth=4, n_estimators=269, subsample=0.7154436253749967; total time=  31.4s\n",
      "[CV] END colsample_bytree=0.7110660842063597, learning_rate=0.1258172234561804, max_depth=4, n_estimators=269, subsample=0.7154436253749967; total time=  27.6s\n",
      "[CV] END colsample_bytree=0.7835939392709834, learning_rate=0.18257051833366422, max_depth=5, n_estimators=175, subsample=0.7434684616273669; total time=  26.8s\n",
      "[CV] END colsample_bytree=0.7835939392709834, learning_rate=0.18257051833366422, max_depth=5, n_estimators=175, subsample=0.7434684616273669; total time=  22.7s\n",
      "[CV] END colsample_bytree=0.7835939392709834, learning_rate=0.18257051833366422, max_depth=5, n_estimators=175, subsample=0.7434684616273669; total time=  26.0s\n",
      "[CV] END colsample_bytree=0.7835939392709834, learning_rate=0.18257051833366422, max_depth=5, n_estimators=175, subsample=0.7434684616273669; total time=  32.2s\n",
      "[CV] END colsample_bytree=0.7835939392709834, learning_rate=0.18257051833366422, max_depth=5, n_estimators=175, subsample=0.7434684616273669; total time=  26.8s\n",
      "[CV] END colsample_bytree=0.8468358280832688, learning_rate=0.19727358628101416, max_depth=9, n_estimators=373, subsample=0.7242559978998145; total time=  31.5s\n",
      "[CV] END colsample_bytree=0.8468358280832688, learning_rate=0.19727358628101416, max_depth=9, n_estimators=373, subsample=0.7242559978998145; total time=  28.9s\n",
      "[CV] END colsample_bytree=0.8468358280832688, learning_rate=0.19727358628101416, max_depth=9, n_estimators=373, subsample=0.7242559978998145; total time=  25.3s\n",
      "[CV] END colsample_bytree=0.8468358280832688, learning_rate=0.19727358628101416, max_depth=9, n_estimators=373, subsample=0.7242559978998145; total time=  30.2s\n",
      "[CV] END colsample_bytree=0.8468358280832688, learning_rate=0.19727358628101416, max_depth=9, n_estimators=373, subsample=0.7242559978998145; total time=  31.7s\n",
      "[CV] END colsample_bytree=0.8108963368184213, learning_rate=0.05601038827271092, max_depth=8, n_estimators=329, subsample=0.8410901903338115; total time= 1.2min\n",
      "[CV] END colsample_bytree=0.8108963368184213, learning_rate=0.05601038827271092, max_depth=8, n_estimators=329, subsample=0.8410901903338115; total time= 1.2min\n",
      "[CV] END colsample_bytree=0.8108963368184213, learning_rate=0.05601038827271092, max_depth=8, n_estimators=329, subsample=0.8410901903338115; total time= 1.2min\n",
      "[CV] END colsample_bytree=0.8108963368184213, learning_rate=0.05601038827271092, max_depth=8, n_estimators=329, subsample=0.8410901903338115; total time= 1.2min\n",
      "[CV] END colsample_bytree=0.8108963368184213, learning_rate=0.05601038827271092, max_depth=8, n_estimators=329, subsample=0.8410901903338115; total time= 1.2min\n",
      "[CV] END colsample_bytree=0.9950269422684528, learning_rate=0.08577664406446507, max_depth=3, n_estimators=250, subsample=0.7962340194915207; total time=  36.1s\n",
      "[CV] END colsample_bytree=0.9950269422684528, learning_rate=0.08577664406446507, max_depth=3, n_estimators=250, subsample=0.7962340194915207; total time=  35.6s\n",
      "[CV] END colsample_bytree=0.9950269422684528, learning_rate=0.08577664406446507, max_depth=3, n_estimators=250, subsample=0.7962340194915207; total time=  35.4s\n",
      "[CV] END colsample_bytree=0.9950269422684528, learning_rate=0.08577664406446507, max_depth=3, n_estimators=250, subsample=0.7962340194915207; total time=  36.0s\n",
      "[CV] END colsample_bytree=0.9950269422684528, learning_rate=0.08577664406446507, max_depth=3, n_estimators=250, subsample=0.7962340194915207; total time=  35.3s\n",
      "[CV] END colsample_bytree=0.7559555531199562, learning_rate=0.017747276895405145, max_depth=6, n_estimators=301, subsample=0.9032693085526846; total time= 1.3min\n",
      "[CV] END colsample_bytree=0.7559555531199562, learning_rate=0.017747276895405145, max_depth=6, n_estimators=301, subsample=0.9032693085526846; total time= 1.3min\n",
      "[CV] END colsample_bytree=0.7559555531199562, learning_rate=0.017747276895405145, max_depth=6, n_estimators=301, subsample=0.9032693085526846; total time= 1.3min\n",
      "[CV] END colsample_bytree=0.7559555531199562, learning_rate=0.017747276895405145, max_depth=6, n_estimators=301, subsample=0.9032693085526846; total time= 1.3min\n",
      "[CV] END colsample_bytree=0.7559555531199562, learning_rate=0.017747276895405145, max_depth=6, n_estimators=301, subsample=0.9032693085526846; total time= 1.3min\n",
      "[CV] END colsample_bytree=0.7049763486783568, learning_rate=0.10729768107686338, max_depth=5, n_estimators=197, subsample=0.8935518371228349; total time=  37.7s\n",
      "[CV] END colsample_bytree=0.7049763486783568, learning_rate=0.10729768107686338, max_depth=5, n_estimators=197, subsample=0.8935518371228349; total time=  39.0s\n",
      "[CV] END colsample_bytree=0.7049763486783568, learning_rate=0.10729768107686338, max_depth=5, n_estimators=197, subsample=0.8935518371228349; total time=  37.2s\n",
      "[CV] END colsample_bytree=0.7049763486783568, learning_rate=0.10729768107686338, max_depth=5, n_estimators=197, subsample=0.8935518371228349; total time=  39.0s\n",
      "[CV] END colsample_bytree=0.7049763486783568, learning_rate=0.10729768107686338, max_depth=5, n_estimators=197, subsample=0.8935518371228349; total time=  40.2s\n",
      "[CV] END colsample_bytree=0.7523099287014974, learning_rate=0.14127817023946854, max_depth=9, n_estimators=387, subsample=0.9513130317721983; total time=  45.6s\n",
      "[CV] END colsample_bytree=0.7523099287014974, learning_rate=0.14127817023946854, max_depth=9, n_estimators=387, subsample=0.9513130317721983; total time=  39.7s\n",
      "[CV] END colsample_bytree=0.7523099287014974, learning_rate=0.14127817023946854, max_depth=9, n_estimators=387, subsample=0.9513130317721983; total time=  40.2s\n",
      "[CV] END colsample_bytree=0.7523099287014974, learning_rate=0.14127817023946854, max_depth=9, n_estimators=387, subsample=0.9513130317721983; total time=  34.8s\n",
      "[CV] END colsample_bytree=0.7523099287014974, learning_rate=0.14127817023946854, max_depth=9, n_estimators=387, subsample=0.9513130317721983; total time=  43.4s\n",
      "[CV] END colsample_bytree=0.9027070351117842, learning_rate=0.14969106265574672, max_depth=4, n_estimators=200, subsample=0.8624343921482697; total time=  26.1s\n",
      "[CV] END colsample_bytree=0.9027070351117842, learning_rate=0.14969106265574672, max_depth=4, n_estimators=200, subsample=0.8624343921482697; total time=  27.1s\n",
      "[CV] END colsample_bytree=0.9027070351117842, learning_rate=0.14969106265574672, max_depth=4, n_estimators=200, subsample=0.8624343921482697; total time=  23.5s\n",
      "[CV] END colsample_bytree=0.9027070351117842, learning_rate=0.14969106265574672, max_depth=4, n_estimators=200, subsample=0.8624343921482697; total time=  26.1s\n",
      "[CV] END colsample_bytree=0.9027070351117842, learning_rate=0.14969106265574672, max_depth=4, n_estimators=200, subsample=0.8624343921482697; total time=  25.5s\n",
      "[CV] END colsample_bytree=0.9087353198035246, learning_rate=0.05342450414148694, max_depth=11, n_estimators=109, subsample=0.7782487524491226; total time=  35.8s\n",
      "[CV] END colsample_bytree=0.9087353198035246, learning_rate=0.05342450414148694, max_depth=11, n_estimators=109, subsample=0.7782487524491226; total time=  36.3s\n",
      "[CV] END colsample_bytree=0.9087353198035246, learning_rate=0.05342450414148694, max_depth=11, n_estimators=109, subsample=0.7782487524491226; total time=  38.5s\n",
      "[CV] END colsample_bytree=0.9087353198035246, learning_rate=0.05342450414148694, max_depth=11, n_estimators=109, subsample=0.7782487524491226; total time=  36.6s\n",
      "[CV] END colsample_bytree=0.9087353198035246, learning_rate=0.05342450414148694, max_depth=11, n_estimators=109, subsample=0.7782487524491226; total time=  36.2s\n",
      "[CV] END colsample_bytree=0.9988761099273773, learning_rate=0.1934296767448708, max_depth=7, n_estimators=86, subsample=0.9647909029568018; total time=  23.3s\n",
      "[CV] END colsample_bytree=0.9988761099273773, learning_rate=0.1934296767448708, max_depth=7, n_estimators=86, subsample=0.9647909029568018; total time=  23.4s\n",
      "[CV] END colsample_bytree=0.9988761099273773, learning_rate=0.1934296767448708, max_depth=7, n_estimators=86, subsample=0.9647909029568018; total time=  22.6s\n",
      "[CV] END colsample_bytree=0.9988761099273773, learning_rate=0.1934296767448708, max_depth=7, n_estimators=86, subsample=0.9647909029568018; total time=  26.1s\n",
      "[CV] END colsample_bytree=0.9988761099273773, learning_rate=0.1934296767448708, max_depth=7, n_estimators=86, subsample=0.9647909029568018; total time=  23.3s\n",
      "[CV] END colsample_bytree=0.7566121325024138, learning_rate=0.06298555699251455, max_depth=5, n_estimators=353, subsample=0.9539983426714918; total time=  48.6s\n",
      "[CV] END colsample_bytree=0.7566121325024138, learning_rate=0.06298555699251455, max_depth=5, n_estimators=353, subsample=0.9539983426714918; total time= 1.1min\n",
      "[CV] END colsample_bytree=0.7566121325024138, learning_rate=0.06298555699251455, max_depth=5, n_estimators=353, subsample=0.9539983426714918; total time=  52.3s\n",
      "[CV] END colsample_bytree=0.7566121325024138, learning_rate=0.06298555699251455, max_depth=5, n_estimators=353, subsample=0.9539983426714918; total time= 1.0min\n",
      "[CV] END colsample_bytree=0.7566121325024138, learning_rate=0.06298555699251455, max_depth=5, n_estimators=353, subsample=0.9539983426714918; total time=  57.7s\n",
      "[CV] END colsample_bytree=0.9568972875634276, learning_rate=0.08685654415321611, max_depth=3, n_estimators=457, subsample=0.9552785346302537; total time=  37.9s\n",
      "[CV] END colsample_bytree=0.9568972875634276, learning_rate=0.08685654415321611, max_depth=3, n_estimators=457, subsample=0.9552785346302537; total time=  40.3s\n",
      "[CV] END colsample_bytree=0.9568972875634276, learning_rate=0.08685654415321611, max_depth=3, n_estimators=457, subsample=0.9552785346302537; total time=  34.9s\n",
      "[CV] END colsample_bytree=0.9568972875634276, learning_rate=0.08685654415321611, max_depth=3, n_estimators=457, subsample=0.9552785346302537; total time=  37.8s\n",
      "[CV] END colsample_bytree=0.9568972875634276, learning_rate=0.08685654415321611, max_depth=3, n_estimators=457, subsample=0.9552785346302537; total time=  36.4s\n",
      "[CV] END colsample_bytree=0.9806904982662842, learning_rate=0.1592147237116493, max_depth=10, n_estimators=389, subsample=0.8742059864309364; total time=  42.6s\n",
      "[CV] END colsample_bytree=0.9806904982662842, learning_rate=0.1592147237116493, max_depth=10, n_estimators=389, subsample=0.8742059864309364; total time=  38.1s\n",
      "[CV] END colsample_bytree=0.9806904982662842, learning_rate=0.1592147237116493, max_depth=10, n_estimators=389, subsample=0.8742059864309364; total time=  31.1s\n",
      "[CV] END colsample_bytree=0.9806904982662842, learning_rate=0.1592147237116493, max_depth=10, n_estimators=389, subsample=0.8742059864309364; total time=  37.4s\n",
      "[CV] END colsample_bytree=0.9806904982662842, learning_rate=0.1592147237116493, max_depth=10, n_estimators=389, subsample=0.8742059864309364; total time=  38.0s\n",
      "[CV] END colsample_bytree=0.8116848299685229, learning_rate=0.18862535406697792, max_depth=11, n_estimators=398, subsample=0.7851762924212397; total time=  33.6s\n",
      "[CV] END colsample_bytree=0.8116848299685229, learning_rate=0.18862535406697792, max_depth=11, n_estimators=398, subsample=0.7851762924212397; total time=  27.9s\n",
      "[CV] END colsample_bytree=0.8116848299685229, learning_rate=0.18862535406697792, max_depth=11, n_estimators=398, subsample=0.7851762924212397; total time=  37.0s\n",
      "[CV] END colsample_bytree=0.8116848299685229, learning_rate=0.18862535406697792, max_depth=11, n_estimators=398, subsample=0.7851762924212397; total time=  31.4s\n",
      "[CV] END colsample_bytree=0.8116848299685229, learning_rate=0.18862535406697792, max_depth=11, n_estimators=398, subsample=0.7851762924212397; total time=  28.7s\n",
      "[CV] END colsample_bytree=0.791609158103318, learning_rate=0.10226661318138305, max_depth=5, n_estimators=257, subsample=0.9983372387832461; total time=  40.5s\n",
      "[CV] END colsample_bytree=0.791609158103318, learning_rate=0.10226661318138305, max_depth=5, n_estimators=257, subsample=0.9983372387832461; total time=  47.8s\n",
      "[CV] END colsample_bytree=0.791609158103318, learning_rate=0.10226661318138305, max_depth=5, n_estimators=257, subsample=0.9983372387832461; total time=  37.5s\n",
      "[CV] END colsample_bytree=0.791609158103318, learning_rate=0.10226661318138305, max_depth=5, n_estimators=257, subsample=0.9983372387832461; total time=  43.3s\n",
      "[CV] END colsample_bytree=0.791609158103318, learning_rate=0.10226661318138305, max_depth=5, n_estimators=257, subsample=0.9983372387832461; total time=  44.8s\n",
      "[CV] END colsample_bytree=0.7527775758032036, learning_rate=0.013434319086948966, max_depth=7, n_estimators=353, subsample=0.9239474215354072; total time= 1.7min\n",
      "[CV] END colsample_bytree=0.7527775758032036, learning_rate=0.013434319086948966, max_depth=7, n_estimators=353, subsample=0.9239474215354072; total time= 1.7min\n",
      "[CV] END colsample_bytree=0.7527775758032036, learning_rate=0.013434319086948966, max_depth=7, n_estimators=353, subsample=0.9239474215354072; total time= 1.7min\n",
      "[CV] END colsample_bytree=0.7527775758032036, learning_rate=0.013434319086948966, max_depth=7, n_estimators=353, subsample=0.9239474215354072; total time= 1.7min\n",
      "[CV] END colsample_bytree=0.7527775758032036, learning_rate=0.013434319086948966, max_depth=7, n_estimators=353, subsample=0.9239474215354072; total time= 1.7min\n",
      "[CV] END colsample_bytree=0.8948898697141643, learning_rate=0.17135244799389382, max_depth=3, n_estimators=177, subsample=0.8704925810006414; total time=  20.8s\n",
      "[CV] END colsample_bytree=0.8948898697141643, learning_rate=0.17135244799389382, max_depth=3, n_estimators=177, subsample=0.8704925810006414; total time=  21.4s\n",
      "[CV] END colsample_bytree=0.8948898697141643, learning_rate=0.17135244799389382, max_depth=3, n_estimators=177, subsample=0.8704925810006414; total time=  19.3s\n",
      "[CV] END colsample_bytree=0.8948898697141643, learning_rate=0.17135244799389382, max_depth=3, n_estimators=177, subsample=0.8704925810006414; total time=  23.2s\n",
      "[CV] END colsample_bytree=0.8948898697141643, learning_rate=0.17135244799389382, max_depth=3, n_estimators=177, subsample=0.8704925810006414; total time=  20.9s\n"
     ]
    }
   ],
   "source": [
    "%load_ext cuml.accel\n",
    "import time\n",
    "import xgboost as xgb\n",
    "from scipy.stats import randint, uniform\n",
    "from sklearn.model_selection import RandomizedSearchCV\n",
    "from sklearn.utils.class_weight import compute_sample_weight\n",
    "\n",
    "# Start timing\n",
    "start_time = time.time()\n",
    "\n",
    "# Balance class weights\n",
    "sample_weights = compute_sample_weight(\n",
    "    class_weight=\"balanced\",\n",
    "    y=y_train_cpu\n",
    ")\n",
    "\n",
    "# Base model\n",
    "base_model = xgb.XGBClassifier(\n",
    "    device=\"cuda\",\n",
    "    tree_method=\"hist\",\n",
    "    objective=\"multi:softprob\",\n",
    "    num_class=len(np.unique(y_train_cpu)),\n",
    "    early_stopping_rounds=10,\n",
    "    eval_metric=['merror','mlogloss'],\n",
    "    random_state=42\n",
    ")\n",
    "\n",
    "# Hyperparameters\n",
    "param_dist = {\n",
    "    'n_estimators': randint(50, 500),\n",
    "    'max_depth': randint(3, 12),\n",
    "    'learning_rate': uniform(0.01, 0.19),  # range: 0.01 to 0.2\n",
    "    'subsample': uniform(0.7, 0.3),        # range: 0.7 to 1.0\n",
    "    'colsample_bytree': uniform(0.7, 0.3)  # range: 0.7 to 1.0\n",
    "}\n",
    "\n",
    "\n",
    "# Randomized search tuning\n",
    "random_search = RandomizedSearchCV(\n",
    "    base_model,\n",
    "    param_dist,\n",
    "    n_iter=50,\n",
    "    scoring='accuracy',\n",
    "    cv=5,\n",
    "    verbose=2,\n",
    "    random_state=42,\n",
    "    error_score='raise'\n",
    ")\n",
    "random_search.fit(\n",
    "    x_train_cpu, y_train_cpu,\n",
    "    sample_weight=sample_weights,\n",
    "    eval_set=[(x_valid_cpu, y_valid_cpu)],\n",
    "    verbose=0)\n",
    "\n",
    "# End timing\n",
    "end_time = time.time()\n",
    "training_time = end_time - start_time"
   ]
  },
  {
   "cell_type": "code",
   "execution_count": 2,
   "id": "wfhK3GhQtAby",
   "metadata": {
    "colab": {
     "base_uri": "https://localhost:8080/"
    },
    "executionInfo": {
     "elapsed": 27,
     "status": "ok",
     "timestamp": 1749909140294,
     "user": {
      "displayName": "YS Goh",
      "userId": "02928050611845413598"
     },
     "user_tz": -480
    },
    "id": "wfhK3GhQtAby",
    "outputId": "49a564e2-8707-48d9-b15c-1079f7389f9b"
   },
   "outputs": [
    {
     "name": "stdout",
     "output_type": "stream",
     "text": [
      "Best Parameters: {'colsample_bytree': np.float64(0.9950269422684528), 'learning_rate': np.float64(0.08577664406446507), 'max_depth': 3, 'n_estimators': 250, 'subsample': np.float64(0.7962340194915207)}\n",
      "Best Accuracy: 0.2938822397645927\n",
      "Total Training Time: 193.18 minutes\n"
     ]
    }
   ],
   "source": [
    "# Best model\n",
    "best_model = random_search.best_estimator_\n",
    "print(\"Best Parameters:\", random_search.best_params_)\n",
    "print(f\"Best Accuracy: {random_search.best_score_:.6f}\", )\n",
    "print(f\"Total Training Time: {training_time/60:.2f} minutes\")"
   ]
  },
  {
   "cell_type": "code",
   "execution_count": null,
   "id": "4i0sIXxFUsHy",
   "metadata": {
    "colab": {
     "base_uri": "https://localhost:8080/"
    },
    "executionInfo": {
     "elapsed": 26,
     "status": "ok",
     "timestamp": 1749900893446,
     "user": {
      "displayName": "YS Goh",
      "userId": "02928050611845413598"
     },
     "user_tz": -480
    },
    "id": "4i0sIXxFUsHy",
    "outputId": "53e69127-296c-47fe-8c7c-c013a8ac3337"
   },
   "outputs": [
    {
     "name": "stdout",
     "output_type": "stream",
     "text": [
      "TRAIN METRICS\n",
      "Accuracy: 0.9996637525218561\n",
      "Precision (macro): 0.9995192307692307\n",
      "Recall (macro): 0.9995967741935484\n",
      "F0.5-Score (macro): 0.9995322002674942\n",
      "\n",
      " TEST METRICS\n",
      "Accuracy: 0.3041722745625841\n",
      "Precision (macro): 0.3239029516593595\n",
      "Recall (macro): 0.2903715446023294\n",
      "F0.5-Score (macro): 0.30795705037248194\n"
     ]
    }
   ],
   "source": [
    "from sklearn.metrics import accuracy_score, precision_score, recall_score, fbeta_score\n",
    "\n",
    "beta = 0.5  # mis-labelled sneakers are more costly than missing labels\n",
    "\n",
    "# Predictions\n",
    "y_pred_train = best_model.predict(x_train_cpu)\n",
    "y_pred_test = best_model.predict(x_test_cpu)\n",
    "\n",
    "# --- Train Scores ---\n",
    "print(\"TRAIN METRICS\")\n",
    "print(\"Accuracy:\", accuracy_score(y_train_cpu, y_pred_train))\n",
    "print(\"Precision (macro):\", precision_score(y_train_cpu, y_pred_train, average='macro'))\n",
    "print(\"Recall (macro):\", recall_score(y_train_cpu, y_pred_train, average='macro'))\n",
    "print(f\"F{beta}-Score (macro):\", fbeta_score(y_train_cpu, y_pred_train, beta=beta, average='macro'))\n",
    "\n",
    "# --- Test Scores ---\n",
    "print(\"\\n TEST METRICS\")\n",
    "print(\"Accuracy:\", accuracy_score(y_test_cpu, y_pred_test))\n",
    "print(\"Precision (macro):\", precision_score(y_test_cpu, y_pred_test, average='macro'))\n",
    "print(\"Recall (macro):\", recall_score(y_test_cpu, y_pred_test, average='macro'))\n",
    "print(f\"F{beta}-Score (macro):\", fbeta_score(y_test_cpu, y_pred_test, beta=beta, average='macro'))"
   ]
  }
 ],
 "metadata": {
  "colab": {
   "machine_shape": "hm",
   "provenance": []
  },
  "kernelspec": {
   "display_name": "Python 3",
   "name": "python3"
  },
  "language_info": {
   "codemirror_mode": {
    "name": "ipython",
    "version": 3
   },
   "file_extension": ".py",
   "mimetype": "text/x-python",
   "name": "python",
   "nbconvert_exporter": "python",
   "pygments_lexer": "ipython3",
   "version": "3.13.3"
  }
 },
 "nbformat": 4,
 "nbformat_minor": 5
}
